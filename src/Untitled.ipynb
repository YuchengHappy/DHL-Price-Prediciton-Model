{
 "cells": [
  {
   "cell_type": "code",
   "execution_count": 1,
   "id": "51087660",
   "metadata": {},
   "outputs": [],
   "source": [
    "import pandas as pd"
   ]
  },
  {
   "cell_type": "code",
   "execution_count": 2,
   "id": "276ba5c7",
   "metadata": {},
   "outputs": [],
   "source": [
    "file_path = \"FE_DONE_V101.csv\"\n",
    "df = pd.read_csv(file_path, low_memory = False)"
   ]
  },
  {
   "cell_type": "code",
   "execution_count": 3,
   "id": "300656a3",
   "metadata": {},
   "outputs": [
    {
     "name": "stdout",
     "output_type": "stream",
     "text": [
      "<class 'pandas.core.frame.DataFrame'>\n",
      "RangeIndex: 2678356 entries, 0 to 2678355\n",
      "Data columns (total 46 columns):\n",
      " #   Column              Dtype  \n",
      "---  ------              -----  \n",
      " 0   Unnamed: 0          int64  \n",
      " 1   SHIPMENT_ID         object \n",
      " 2   CUSTOMER            int64  \n",
      " 3   DISTANCE            float64\n",
      " 4   CASES               int64  \n",
      " 5   WEIGHT              float64\n",
      " 6   VOLUME              float64\n",
      " 7   SOURCE_LOCATION_ID  int64  \n",
      " 8   ORIGIN_NAME         int64  \n",
      " 9   ORIGIN_CITY         object \n",
      " 10  ORIGIN_STATE        object \n",
      " 11  ORIGIN_ZIP          object \n",
      " 12  DEST_LOCATION_ID    int64  \n",
      " 13  CONSIGNEE_NAME      int64  \n",
      " 14  DEST_CITY           object \n",
      " 15  DEST_STATE          object \n",
      " 16  DEST_ZIP            object \n",
      " 17  ACTUAL_CARRIER      int64  \n",
      " 18  ACTUAL_MODE         object \n",
      " 19  ACTUAL_EQUIP        object \n",
      " 20  LINEHAUL_COSTS      float64\n",
      " 21  FUEL_COSTS          float64\n",
      " 22  ACC._COSTS          float64\n",
      " 23  TOTAL_ACTUAL_COST   float64\n",
      " 24  Insert_Date         object \n",
      " 25  PU_APPT_DATETIME    object \n",
      " 26  DL_APPT_DATETIME    object \n",
      " 27  DURATION            object \n",
      " 28  ORIGIN_COUNTRY      object \n",
      " 29  DEST_COUNTRY        object \n",
      " 30  PU_WEEKDAY          int64  \n",
      " 31  DL_WEEKDAY          int64  \n",
      " 32  PU_HOUR             int64  \n",
      " 33  DL_HOUR             int64  \n",
      " 34  PU_MINUTE           int64  \n",
      " 35  DL_MINUTE           int64  \n",
      " 36  PU_MONTH            int64  \n",
      " 37  DL_MONTH            int64  \n",
      " 38  PU_YEAR             int64  \n",
      " 39  DL_YEAR             int64  \n",
      " 40  Frequency: Monthly  object \n",
      " 41  FUEL_PRICE          float64\n",
      " 42  ORIGIN_LAT          float64\n",
      " 43  ORIGIN_LONG         float64\n",
      " 44  DEST_LAT            float64\n",
      " 45  DEST_LONG           float64\n",
      "dtypes: float64(12), int64(18), object(16)\n",
      "memory usage: 940.0+ MB\n"
     ]
    }
   ],
   "source": [
    "df.info()"
   ]
  },
  {
   "cell_type": "code",
   "execution_count": 4,
   "id": "af5f7ad7",
   "metadata": {},
   "outputs": [],
   "source": [
    "import pandas as pd\n",
    "from sklearn.preprocessing import OneHotEncoder\n",
    "from feature_engine.creation import CyclicalFeatures"
   ]
  },
  {
   "cell_type": "code",
   "execution_count": 5,
   "id": "91e5f83c",
   "metadata": {},
   "outputs": [],
   "source": [
    "cyclical = CyclicalFeatures(variables=None, drop_original=True)\n"
   ]
  },
  {
   "cell_type": "code",
   "execution_count": 6,
   "id": "3da86746",
   "metadata": {},
   "outputs": [],
   "source": [
    "pu_weekday = cyclical.fit_transform(df[\"PU_WEEKDAY\"].to_frame())\n",
    "dl_weekday = cyclical.fit_transform(df[\"DL_WEEKDAY\"].to_frame())"
   ]
  },
  {
   "cell_type": "code",
   "execution_count": 7,
   "id": "fc5b19ce",
   "metadata": {},
   "outputs": [],
   "source": [
    "df = df.join(pu_weekday)\n",
    "df = df.join(dl_weekday)"
   ]
  },
  {
   "cell_type": "code",
   "execution_count": 8,
   "id": "8b6edcc2",
   "metadata": {},
   "outputs": [],
   "source": [
    "df = df.drop(columns = [\"PU_WEEKDAY\", \"DL_WEEKDAY\"])"
   ]
  },
  {
   "cell_type": "code",
   "execution_count": 10,
   "id": "e68ac041",
   "metadata": {},
   "outputs": [],
   "source": [
    "pu_hour = cyclical.fit_transform(df[\"PU_HOUR\"].to_frame())\n",
    "dl_hour = cyclical.fit_transform(df[\"DL_HOUR\"].to_frame())"
   ]
  },
  {
   "cell_type": "code",
   "execution_count": 11,
   "id": "dd6b3efb",
   "metadata": {},
   "outputs": [],
   "source": [
    "df = df.join(pu_hour)\n",
    "df = df.join(dl_hour)\n",
    "df = df.drop(columns = [\"PU_HOUR\", \"DL_HOUR\"])"
   ]
  },
  {
   "cell_type": "code",
   "execution_count": 12,
   "id": "538d5181",
   "metadata": {},
   "outputs": [],
   "source": [
    "pu_minute = cyclical.fit_transform(df[\"PU_MINUTE\"].to_frame())\n",
    "dl_minute = cyclical.fit_transform(df[\"DL_MINUTE\"].to_frame())"
   ]
  },
  {
   "cell_type": "code",
   "execution_count": 13,
   "id": "f1e42514",
   "metadata": {},
   "outputs": [],
   "source": [
    "df = df.join(pu_minute)\n",
    "df = df.join(dl_minute)\n",
    "df = df.drop(columns = [\"PU_MINUTE\", \"DL_MINUTE\"])"
   ]
  },
  {
   "cell_type": "code",
   "execution_count": 14,
   "id": "82e5a12b",
   "metadata": {},
   "outputs": [],
   "source": [
    "pu_month = cyclical.fit_transform(df[\"PU_MONTH\"].to_frame())\n",
    "dl_month = cyclical.fit_transform(df[\"DL_MONTH\"].to_frame())"
   ]
  },
  {
   "cell_type": "code",
   "execution_count": 15,
   "id": "f0de3949",
   "metadata": {},
   "outputs": [],
   "source": [
    "df = df.join(pu_month)\n",
    "df = df.join(dl_month)\n",
    "df = df.drop(columns = [\"PU_MONTH\", \"DL_MONTH\", \"Frequency: Monthly\"])"
   ]
  },
  {
   "cell_type": "code",
   "execution_count": 16,
   "id": "60e784b2",
   "metadata": {},
   "outputs": [],
   "source": [
    "df = df.drop(columns = [\"DL_MONTH\"])"
   ]
  },
  {
   "cell_type": "code",
   "execution_count": 17,
   "id": "24a07bc5",
   "metadata": {},
   "outputs": [
    {
     "name": "stdout",
     "output_type": "stream",
     "text": [
      "<class 'pandas.core.frame.DataFrame'>\n",
      "RangeIndex: 2678356 entries, 0 to 2678355\n",
      "Data columns (total 53 columns):\n",
      " #   Column              Dtype  \n",
      "---  ------              -----  \n",
      " 0   Unnamed: 0          int64  \n",
      " 1   SHIPMENT_ID         object \n",
      " 2   CUSTOMER            int64  \n",
      " 3   DISTANCE            float64\n",
      " 4   CASES               int64  \n",
      " 5   WEIGHT              float64\n",
      " 6   VOLUME              float64\n",
      " 7   SOURCE_LOCATION_ID  int64  \n",
      " 8   ORIGIN_NAME         int64  \n",
      " 9   ORIGIN_CITY         object \n",
      " 10  ORIGIN_STATE        object \n",
      " 11  ORIGIN_ZIP          object \n",
      " 12  DEST_LOCATION_ID    int64  \n",
      " 13  CONSIGNEE_NAME      int64  \n",
      " 14  DEST_CITY           object \n",
      " 15  DEST_STATE          object \n",
      " 16  DEST_ZIP            object \n",
      " 17  ACTUAL_CARRIER      int64  \n",
      " 18  ACTUAL_MODE         object \n",
      " 19  ACTUAL_EQUIP        object \n",
      " 20  LINEHAUL_COSTS      float64\n",
      " 21  FUEL_COSTS          float64\n",
      " 22  ACC._COSTS          float64\n",
      " 23  TOTAL_ACTUAL_COST   float64\n",
      " 24  Insert_Date         object \n",
      " 25  PU_APPT_DATETIME    object \n",
      " 26  DL_APPT_DATETIME    object \n",
      " 27  DURATION            object \n",
      " 28  ORIGIN_COUNTRY      object \n",
      " 29  DEST_COUNTRY        object \n",
      " 30  PU_YEAR             int64  \n",
      " 31  DL_YEAR             int64  \n",
      " 32  FUEL_PRICE          float64\n",
      " 33  ORIGIN_LAT          float64\n",
      " 34  ORIGIN_LONG         float64\n",
      " 35  DEST_LAT            float64\n",
      " 36  DEST_LONG           float64\n",
      " 37  PU_WEEKDAY_sin      float64\n",
      " 38  PU_WEEKDAY_cos      float64\n",
      " 39  DL_WEEKDAY_sin      float64\n",
      " 40  DL_WEEKDAY_cos      float64\n",
      " 41  PU_HOUR_sin         float64\n",
      " 42  PU_HOUR_cos         float64\n",
      " 43  DL_HOUR_sin         float64\n",
      " 44  DL_HOUR_cos         float64\n",
      " 45  PU_MINUTE_sin       float64\n",
      " 46  PU_MINUTE_cos       float64\n",
      " 47  DL_MINUTE_sin       float64\n",
      " 48  DL_MINUTE_cos       float64\n",
      " 49  PU_MONTH_sin        float64\n",
      " 50  PU_MONTH_cos        float64\n",
      " 51  DL_MONTH_sin        float64\n",
      " 52  DL_MONTH_cos        float64\n",
      "dtypes: float64(28), int64(10), object(15)\n",
      "memory usage: 1.1+ GB\n"
     ]
    }
   ],
   "source": [
    "df.info()"
   ]
  },
  {
   "cell_type": "code",
   "execution_count": 18,
   "id": "1a6a0756",
   "metadata": {},
   "outputs": [],
   "source": [
    "df[\"DURATION\"] = df.DURATION.apply(lambda x: pd.to_timedelta(x))"
   ]
  },
  {
   "cell_type": "code",
   "execution_count": 20,
   "id": "5b91f8b6",
   "metadata": {},
   "outputs": [],
   "source": [
    "df[\"DURATION_DAY\"] = df.DURATION.apply(lambda x: \n",
    "                                       x.total_seconds()/60/60/24)"
   ]
  },
  {
   "cell_type": "code",
   "execution_count": 21,
   "id": "dd13768d",
   "metadata": {},
   "outputs": [],
   "source": [
    "df[\"DURATION_MINUTE\"] = df.DURATION.apply(lambda x: \n",
    "                                       x.total_seconds()/60)"
   ]
  },
  {
   "cell_type": "code",
   "execution_count": 22,
   "id": "0574cd66",
   "metadata": {},
   "outputs": [],
   "source": [
    "df = df.drop(columns = [\"DURATION\"])"
   ]
  },
  {
   "cell_type": "code",
   "execution_count": 23,
   "id": "996c3006",
   "metadata": {},
   "outputs": [
    {
     "name": "stdout",
     "output_type": "stream",
     "text": [
      "<class 'pandas.core.frame.DataFrame'>\n",
      "RangeIndex: 2678356 entries, 0 to 2678355\n",
      "Data columns (total 54 columns):\n",
      " #   Column              Dtype  \n",
      "---  ------              -----  \n",
      " 0   Unnamed: 0          int64  \n",
      " 1   SHIPMENT_ID         object \n",
      " 2   CUSTOMER            int64  \n",
      " 3   DISTANCE            float64\n",
      " 4   CASES               int64  \n",
      " 5   WEIGHT              float64\n",
      " 6   VOLUME              float64\n",
      " 7   SOURCE_LOCATION_ID  int64  \n",
      " 8   ORIGIN_NAME         int64  \n",
      " 9   ORIGIN_CITY         object \n",
      " 10  ORIGIN_STATE        object \n",
      " 11  ORIGIN_ZIP          object \n",
      " 12  DEST_LOCATION_ID    int64  \n",
      " 13  CONSIGNEE_NAME      int64  \n",
      " 14  DEST_CITY           object \n",
      " 15  DEST_STATE          object \n",
      " 16  DEST_ZIP            object \n",
      " 17  ACTUAL_CARRIER      int64  \n",
      " 18  ACTUAL_MODE         object \n",
      " 19  ACTUAL_EQUIP        object \n",
      " 20  LINEHAUL_COSTS      float64\n",
      " 21  FUEL_COSTS          float64\n",
      " 22  ACC._COSTS          float64\n",
      " 23  TOTAL_ACTUAL_COST   float64\n",
      " 24  Insert_Date         object \n",
      " 25  PU_APPT_DATETIME    object \n",
      " 26  DL_APPT_DATETIME    object \n",
      " 27  ORIGIN_COUNTRY      object \n",
      " 28  DEST_COUNTRY        object \n",
      " 29  PU_YEAR             int64  \n",
      " 30  DL_YEAR             int64  \n",
      " 31  FUEL_PRICE          float64\n",
      " 32  ORIGIN_LAT          float64\n",
      " 33  ORIGIN_LONG         float64\n",
      " 34  DEST_LAT            float64\n",
      " 35  DEST_LONG           float64\n",
      " 36  PU_WEEKDAY_sin      float64\n",
      " 37  PU_WEEKDAY_cos      float64\n",
      " 38  DL_WEEKDAY_sin      float64\n",
      " 39  DL_WEEKDAY_cos      float64\n",
      " 40  PU_HOUR_sin         float64\n",
      " 41  PU_HOUR_cos         float64\n",
      " 42  DL_HOUR_sin         float64\n",
      " 43  DL_HOUR_cos         float64\n",
      " 44  PU_MINUTE_sin       float64\n",
      " 45  PU_MINUTE_cos       float64\n",
      " 46  DL_MINUTE_sin       float64\n",
      " 47  DL_MINUTE_cos       float64\n",
      " 48  PU_MONTH_sin        float64\n",
      " 49  PU_MONTH_cos        float64\n",
      " 50  DL_MONTH_sin        float64\n",
      " 51  DL_MONTH_cos        float64\n",
      " 52  DURATION_DAY        float64\n",
      " 53  DURATION_MINUTE     float64\n",
      "dtypes: float64(30), int64(10), object(14)\n",
      "memory usage: 1.1+ GB\n"
     ]
    }
   ],
   "source": [
    "df.info()"
   ]
  },
  {
   "cell_type": "code",
   "execution_count": 24,
   "id": "71a64069",
   "metadata": {},
   "outputs": [],
   "source": [
    "# Export CSV\n",
    "df.to_csv(\"FE_DONE_V10000.csv\")"
   ]
  },
  {
   "cell_type": "code",
   "execution_count": null,
   "id": "2b655c5f",
   "metadata": {},
   "outputs": [],
   "source": []
  }
 ],
 "metadata": {
  "kernelspec": {
   "display_name": "Python 3 (ipykernel)",
   "language": "python",
   "name": "python3"
  },
  "language_info": {
   "codemirror_mode": {
    "name": "ipython",
    "version": 3
   },
   "file_extension": ".py",
   "mimetype": "text/x-python",
   "name": "python",
   "nbconvert_exporter": "python",
   "pygments_lexer": "ipython3",
   "version": "3.8.13"
  }
 },
 "nbformat": 4,
 "nbformat_minor": 5
}
