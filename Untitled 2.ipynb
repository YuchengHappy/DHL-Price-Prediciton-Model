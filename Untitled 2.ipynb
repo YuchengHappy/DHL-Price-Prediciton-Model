{
 "cells": [
  {
   "cell_type": "code",
   "execution_count": 15,
   "id": "d5078eb3",
   "metadata": {},
   "outputs": [],
   "source": [
    "import pandas as pd"
   ]
  },
  {
   "cell_type": "code",
   "execution_count": 2,
   "id": "96786e9d",
   "metadata": {},
   "outputs": [],
   "source": [
    "file_path = \"/Users/luyucheng/Desktop/APAN 5900/Cleaned_Data.csv\"\n",
    "df = pd.read_csv(file_path, low_memory = False)"
   ]
  },
  {
   "cell_type": "code",
   "execution_count": 16,
   "id": "752d50c5",
   "metadata": {},
   "outputs": [],
   "source": [
    "# drop columns \"PU_ARRIVAL_(X3)\", \"PU_DEPARTED_(AF)\", \"DL_ARRIVAL_(X1)\", \"DL_DEPARTED_(D1)\"\n",
    "df2 = df.drop(columns = [\"PU_ARRIVAL_(X3)\", \"PU_DEPARTED_(AF)\", \"DL_ARRIVAL_(X1)\"\n",
    "                    , \"DL_DEPARTED_(D1)\"])"
   ]
  },
  {
   "cell_type": "code",
   "execution_count": 17,
   "id": "35ddb06c",
   "metadata": {},
   "outputs": [],
   "source": [
    "# Drop 0s and nulls Total_Actual_Cost\n",
    "df2 = df2[df2[\"TOTAL_ACTUAL_COST\"] != 0]\n",
    "df2 = df2.dropna(subset = [\"TOTAL_ACTUAL_COST\"])"
   ]
  },
  {
   "cell_type": "code",
   "execution_count": 18,
   "id": "48887ead",
   "metadata": {},
   "outputs": [
    {
     "data": {
      "text/plain": [
       "0.28966974116948857"
      ]
     },
     "execution_count": 18,
     "metadata": {},
     "output_type": "execute_result"
    }
   ],
   "source": [
    "((len(df) - len(df2)) / len(df)) * 100"
   ]
  },
  {
   "cell_type": "code",
   "execution_count": 19,
   "id": "99a789c7",
   "metadata": {},
   "outputs": [],
   "source": [
    "# Drop 0s and nulls DISTANCE\n",
    "df2 = df2[df2[\"DISTANCE\"] != 0]\n",
    "df2 = df2.dropna(subset = [\"DISTANCE\"])"
   ]
  },
  {
   "cell_type": "code",
   "execution_count": 20,
   "id": "11217083",
   "metadata": {},
   "outputs": [
    {
     "data": {
      "text/plain": [
       "8.131980213822514"
      ]
     },
     "execution_count": 20,
     "metadata": {},
     "output_type": "execute_result"
    }
   ],
   "source": [
    "((len(df) - len(df2)) / len(df)) * 100"
   ]
  },
  {
   "cell_type": "code",
   "execution_count": 23,
   "id": "e719b7dd",
   "metadata": {},
   "outputs": [],
   "source": [
    "# Drop 0s and nulls VOLUME\n",
    "df2 = df2[df2[\"VOLUME\"] != 0]\n",
    "df2 = df2.dropna(subset = [\"VOLUME\"])"
   ]
  },
  {
   "cell_type": "code",
   "execution_count": 22,
   "id": "873dce62",
   "metadata": {},
   "outputs": [
    {
     "data": {
      "text/plain": [
       "18.8127490653976"
      ]
     },
     "execution_count": 22,
     "metadata": {},
     "output_type": "execute_result"
    }
   ],
   "source": [
    "((len(df) - len(df2)) / len(df)) * 100"
   ]
  },
  {
   "cell_type": "code",
   "execution_count": 24,
   "id": "3900bfe0",
   "metadata": {},
   "outputs": [],
   "source": [
    "# Drop 0s and nulls WEIGHT\n",
    "df2 = df2[df2[\"WEIGHT\"] != 0]\n",
    "df2 = df2.dropna(subset=[\"WEIGHT\"])"
   ]
  },
  {
   "cell_type": "code",
   "execution_count": 25,
   "id": "83518883",
   "metadata": {},
   "outputs": [
    {
     "data": {
      "text/plain": [
       "19.05012089376282"
      ]
     },
     "execution_count": 25,
     "metadata": {},
     "output_type": "execute_result"
    }
   ],
   "source": [
    "(len(df) - len(df2)) / len(df) * 100"
   ]
  },
  {
   "cell_type": "code",
   "execution_count": null,
   "id": "5baa2fb8",
   "metadata": {},
   "outputs": [],
   "source": []
  },
  {
   "cell_type": "code",
   "execution_count": null,
   "id": "1e835e63",
   "metadata": {},
   "outputs": [],
   "source": []
  },
  {
   "cell_type": "code",
   "execution_count": null,
   "id": "e51a0b7f",
   "metadata": {},
   "outputs": [],
   "source": []
  },
  {
   "cell_type": "code",
   "execution_count": 52,
   "id": "2c71cdb2",
   "metadata": {},
   "outputs": [],
   "source": [
    "df2[\"PU_APPT_DATETIME\"] = df2[\"PU_APPT\"].str[:16]\n",
    "df2[\"DL_APPT_DATETIME\"] = df2[\"DL_APPT\"].str[:16]\n",
    "df2[\"PU_APPT_ZONE\"] = df2[\"PU_APPT\"].str[16:]\n",
    "df2[\"DL_APPT_ZONE\"] = df2[\"DL_APPT\"].str[16:]"
   ]
  },
  {
   "cell_type": "code",
   "execution_count": 19,
   "id": "8766f7aa",
   "metadata": {},
   "outputs": [
    {
     "name": "stdout",
     "output_type": "stream",
     "text": [
      " ET\n",
      " ET\n",
      " AMERICA/CHICAGO\n",
      " ET\n",
      " AMERICA/CHICAGO\n",
      " ET\n",
      " ET\n",
      " ET\n",
      " ET\n",
      " ET\n",
      " ET\n",
      " AMERICA/CHICAGO\n",
      " ET\n",
      " ET\n",
      " ET\n",
      ":00\n"
     ]
    }
   ],
   "source": [
    "for i in df2[\"PU_APPT_ZONE\"]:\n",
    "    if i != \"\":\n",
    "        print(i)\n",
    "\n",
    "# TODO: Revice to certain format check\n",
    "# TODO: Transfer DATETIME & ZONE into standard time line"
   ]
  },
  {
   "cell_type": "code",
   "execution_count": 6,
   "id": "4303dd4a",
   "metadata": {},
   "outputs": [],
   "source": [
    "from pandas.tseries.holiday import USFederalHolidayCalendar as calendar\n",
    "\n",
    "cal = calendar()\n",
    "holidays = cal.holidays(start=df[\"PU_APPT\"].min(), end=df[\"PU_APPT\"].max())\n",
    "\n",
    "df[\"PU_Holiday\"] = df[\"PU_APPT\"].isin(holidays)"
   ]
  },
  {
   "cell_type": "code",
   "execution_count": 9,
   "id": "e339da45",
   "metadata": {},
   "outputs": [],
   "source": [
    "holidays = cal.holidays(start=df[\"DL_APPT\"].min(), end=df[\"DL_APPT\"].max())\n",
    "\n",
    "df[\"DL_Holiday\"] = df[\"DL_APPT\"].isin(holidays)"
   ]
  }
 ],
 "metadata": {
  "kernelspec": {
   "display_name": "Python 3 (ipykernel)",
   "language": "python",
   "name": "python3"
  },
  "language_info": {
   "codemirror_mode": {
    "name": "ipython",
    "version": 3
   },
   "file_extension": ".py",
   "mimetype": "text/x-python",
   "name": "python",
   "nbconvert_exporter": "python",
   "pygments_lexer": "ipython3",
   "version": "3.8.13"
  }
 },
 "nbformat": 4,
 "nbformat_minor": 5
}
